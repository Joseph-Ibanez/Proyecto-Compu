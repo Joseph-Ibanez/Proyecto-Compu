{
 "cells": [
  {
   "cell_type": "code",
   "execution_count": 1,
   "metadata": {},
   "outputs": [
    {
     "data": {
      "text/plain": [
       "SpeedyVerlet (generic function with 1 method)"
      ]
     },
     "execution_count": 1,
     "metadata": {},
     "output_type": "execute_result"
    }
   ],
   "source": [
    "function DifCent(f,x,h)\n",
    "    c = f(x+h) - f(x-h)\n",
    "    der = c/(2*h)\n",
    "    return der\n",
    "end\n",
    "\n",
    "function SpeedyVerlet(x_0,v_0,h,m,t_0,t_f)\n",
    "    N = \n",
    "    times = t_0:h:t_f\n",
    "    n = length(times)\n",
    "    SV = [zeros(2,1) for i in 1:2]\n",
    "    SV[1:length(x_0),1] = x_0\n",
    "    SV[length(x_0):2*length(x_0),1] = v_0\n",
    "    acc = #Traer derivada numérica pa' acá y derivar la velocidad\n",
    "    #F es el gradiente negativo del potencial de Lennard Jones\n",
    "    for k in 2:n\n",
    "        SV[1:length(x_0),k] = SV[1:length(x_0),k-1] + h*(SV[length(x_0):2*length(x_0),k-1]) + (h^2.0)*(m)*(acc) #acc a t_k-1\n",
    "        SV[length(x_0):2*length(x_0),k] = SV[length(x_0):2*length(x_0),k-1] + (h/2.0)*(acc(t_k-1) + acc(t_k))\n",
    "    end\n",
    "    return(times,SV)\n",
    "end   "
   ]
  },
  {
   "cell_type": "code",
   "execution_count": 2,
   "metadata": {},
   "outputs": [
    {
     "data": {
      "text/plain": [
       "10×10 Array{Array{Float64,1},2}:\n",
       " [0.0, 0.0]  [0.0, 0.0]  [0.0, 0.0]  …  [0.0, 0.0]  [0.0, 0.0]  [0.0, 0.0]\n",
       " [0.0, 0.0]  [0.0, 0.0]  [0.0, 0.0]     [0.0, 0.0]  [0.0, 0.0]  [0.0, 0.0]\n",
       " [0.0, 0.0]  [0.0, 0.0]  [0.0, 0.0]     [0.0, 0.0]  [0.0, 0.0]  [0.0, 0.0]\n",
       " [0.0, 0.0]  [0.0, 0.0]  [0.0, 0.0]     [0.0, 0.0]  [0.0, 0.0]  [0.0, 0.0]\n",
       " [0.0, 0.0]  [0.0, 0.0]  [0.0, 0.0]     [0.0, 0.0]  [0.0, 0.0]  [0.0, 0.0]\n",
       " [0.0, 0.0]  [0.0, 0.0]  [0.0, 0.0]  …  [0.0, 0.0]  [0.0, 0.0]  [0.0, 0.0]\n",
       " [0.0, 0.0]  [0.0, 0.0]  [0.0, 0.0]     [0.0, 0.0]  [0.0, 0.0]  [0.0, 0.0]\n",
       " [0.0, 0.0]  [0.0, 0.0]  [0.0, 0.0]     [0.0, 0.0]  [0.0, 0.0]  [0.0, 0.0]\n",
       " [0.0, 0.0]  [0.0, 0.0]  [0.0, 0.0]     [0.0, 0.0]  [0.0, 0.0]  [0.0, 0.0]\n",
       " [0.0, 0.0]  [0.0, 0.0]  [0.0, 0.0]     [0.0, 0.0]  [0.0, 0.0]  [0.0, 0.0]"
      ]
     },
     "metadata": {},
     "output_type": "display_data"
    }
   ],
   "source": [
    "arx = zeros(10)\n",
    "ary = zeros(10)\n",
    "Neo = [[x,y] for x in arx, y in ary]\n",
    "display(Neo)"
   ]
  },
  {
   "cell_type": "code",
   "execution_count": 4,
   "metadata": {},
   "outputs": [
    {
     "data": {
      "text/plain": [
       "4-element Array{Array{Array{Float64,1},2},1}:\n",
       " [[0.0, 0.0] [0.0, 0.0] … [0.0, 0.0] [0.0, 0.0]; [0.0, 0.0] [0.0, 0.0] … [0.0, 0.0] [0.0, 0.0]; … ; [0.0, 0.0] [0.0, 0.0] … [0.0, 0.0] [0.0, 0.0]; [0.0, 0.0] [0.0, 0.0] … [0.0, 0.0] [0.0, 0.0]]\n",
       " [[0.0, 0.0] [0.0, 0.0] … [0.0, 0.0] [0.0, 0.0]; [0.0, 0.0] [0.0, 0.0] … [0.0, 0.0] [0.0, 0.0]; … ; [0.0, 0.0] [0.0, 0.0] … [0.0, 0.0] [0.0, 0.0]; [0.0, 0.0] [0.0, 0.0] … [0.0, 0.0] [0.0, 0.0]]\n",
       " [[0.0, 0.0] [0.0, 0.0] … [0.0, 0.0] [0.0, 0.0]; [0.0, 0.0] [0.0, 0.0] … [0.0, 0.0] [0.0, 0.0]; … ; [0.0, 0.0] [0.0, 0.0] … [0.0, 0.0] [0.0, 0.0]; [0.0, 0.0] [0.0, 0.0] … [0.0, 0.0] [0.0, 0.0]]\n",
       " [[0.0, 0.0] [0.0, 0.0] … [0.0, 0.0] [0.0, 0.0]; [0.0, 0.0] [0.0, 0.0] … [0.0, 0.0] [0.0, 0.0]; … ; [0.0, 0.0] [0.0, 0.0] … [0.0, 0.0] [0.0, 0.0]; [0.0, 0.0] [0.0, 0.0] … [0.0, 0.0] [0.0, 0.0]]"
      ]
     },
     "execution_count": 4,
     "metadata": {},
     "output_type": "execute_result"
    }
   ],
   "source": [
    "t=4\n",
    "Arro = [Neo for i in 1:t]"
   ]
  },
  {
   "cell_type": "code",
   "execution_count": null,
   "metadata": {},
   "outputs": [],
   "source": []
  }
 ],
 "metadata": {
  "kernelspec": {
   "display_name": "Julia 1.5.3",
   "language": "julia",
   "name": "julia-1.5"
  },
  "language_info": {
   "file_extension": ".jl",
   "mimetype": "application/julia",
   "name": "julia",
   "version": "1.5.3"
  }
 },
 "nbformat": 4,
 "nbformat_minor": 4
}
