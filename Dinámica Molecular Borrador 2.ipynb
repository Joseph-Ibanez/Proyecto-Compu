{
 "cells": [
  {
   "cell_type": "code",
   "execution_count": 21,
   "metadata": {},
   "outputs": [],
   "source": [
    "using Plots\n",
    "using LinearAlgebra"
   ]
  },
  {
   "attachments": {
    "04ee5a79-33e5-44ee-9341-4b4cc7fb060b.jpg": {
     "image/jpeg": "[encoded data removed]"
    }
   },
   "cell_type": "markdown",
   "metadata": {},
   "source": [
    "### Observaciones para definir a la función de ´velocidad de Verlet´\n",
    "La función velocidad Verlet, debe resolver la ec. diferencial para $R_k+1$,\n",
    "invlucrando términos $v_k$, $F_k$, y $F_k+1$.\n",
    "\n",
    "Además, distintos parámetros como el paso temporal, masas, tiempo inicial y final, y \n",
    "posición inicial y velocidad inicial.\n",
    "\n",
    "OJO: Necesitamos que tanto la posición inicial y velocidad inicial sean arreglos de vectores, es decir, $R^{0} = (R^{0}_1, R^{0}_2, ... , R^{0}_k)$\n",
    "y lo mismo para la velocidad, $V^{0} = (V^{0}_1, V^{0}_2, ... , V^{0}_k)$. La notación es la siguiente: $R^{i}_{k}$, $i$ denota el tiempo, y $k$ a la partícula.\n",
    "\n",
    "Ahora, por qué $R$ y $V$ son arreglos de vectores? Justo, porque $R_{k}$ es la posición $(x,y)$ de la k-ésima partícula.\n",
    "\n",
    "NOTA: Es factible definir así a R y V ? o una forma más fácila sería por un lado calcular las posiciones y velocidades en $x$ y por otro las de $y$. ?\n",
    "\n",
    "El algoritmo completo de   _velocidad Verlet_ está definido como:\n",
    "\n",
    "$$\\begin{equation}\n",
    "R_{k+1} = R_{k} +  V_{k}h + \\frac{1}{2}F_{k} h^{2}, \\\\\n",
    "V_{k+1} = V_{k} + \\frac{1}{2}(F_{k} + F_{k+1})h .\n",
    "\\end{equation}$$\n",
    "\n",
    "Con  $R_{k} = (R_1, R_2, ... , R_k)$ y $V_{k} = (V_1, V_2, ... , V_k)$, y a su vez, cada $R_{k} = (x_{k}, y_{k})$ y $V_{k} = (v_{x_k}, v_{y_k})$\n",
    "\n",
    "#### Sistema de Referencia\n",
    "\n",
    "![SistemaCaja.jpg](attachment:04ee5a79-33e5-44ee-9341-4b4cc7fb060b.jpg)\n",
    "\n",
    "#### Condiciones de frontera\n",
    "\n",
    "Las condiciones de frontera que vamos a trabajar son 4 paredes reflejantes, eso significa que debemos verificar en cada resultado si no sobrepasa el valor de la caja, por ejemplo, para la parede derecha, considerando que la partícula viene viajando de izquierda a derecha:\n",
    "$$\\begin{equation}\n",
    "R_{k+1} = (x_{k+1}, y_{k+1}) = (L - (x'_{k+1} - L), y'_{k+1}), \\\\\n",
    "V_{k+1} = (v_{x_k+1}, v_{y_k+1}) = (-v'_{x_k+1}, v'_{y_k+1}).\n",
    "\\end{equation}$$\n",
    " NOTA: Es la misma idea para cada pared en cada coordenada, significa que si en nuestro programa verficamos con un _if_ este sería para 4 paredes."
   ]
  },
  {
   "cell_type": "code",
   "execution_count": 22,
   "metadata": {},
   "outputs": [
    {
     "data": {
      "text/plain": [
       "3-element Array{Array{Float64,1},1}:\n",
       " [14.4199, 6.45643]\n",
       " [26.563, 29.1881] \n",
       " [11.0136, 2.91611]"
      ]
     },
     "execution_count": 22,
     "metadata": {},
     "output_type": "execute_result"
    }
   ],
   "source": [
    "#Estableciendo las partículas, en la posición (X,Y)\n",
    "# Atoms debe ser un entero positivo mayor a 2.\n",
    "atoms_N = 100 #[-]\n",
    "# Debido a que vamos a trabajar N partículas idénticas, definimos el valor de la masa que es el mismo para las N.\n",
    "masa = 1.0 #[kg]\n",
    "# Establecemos la dimensión de la caja, el valor de \"L\"\n",
    "box_size = 30.0 # nm\n",
    "#= Y establecemos las posiciones iniciales de las N partículas de manera aleatoria. \n",
    "Multiplicamos por box_size a cada elementos de la lista para que los valores estén dentro de la caja. =#\n",
    "\n",
    "# Coordenadas de las partículas, inicialmente\n",
    "coords = [box_size .* [rand(),rand()] for i in 1:3]\n",
    "#Esta lista es importante y debe ser la lista que se ocupe para encontrar las posiciones, velocidades y fuerzas incialmente."
   ]
  },
  {
   "cell_type": "code",
   "execution_count": 29,
   "metadata": {},
   "outputs": [
    {
     "ename": "ErrorException",
     "evalue": "Cannot convert Float64 to series data for plotting",
     "output_type": "error",
     "traceback": [
      "Cannot convert Float64 to series data for plotting",
      "",
      "Stacktrace:",
      " [1] error(::String) at .\\error.jl:33",
      " [2] prepareSeriesData(::Float64) at C:\\Users\\car_j\\.juliapro\\JuliaPro_v1.0.5-2\\packages\\Plots\\qZHsp\\src\\series.jl:14",
      " [3] convertToAnyVector(::Float64, ::Dict{Symbol,Any}) at C:\\Users\\car_j\\.juliapro\\JuliaPro_v1.0.5-2\\packages\\Plots\\qZHsp\\src\\series.jl:26",
      " [4] macro expansion at C:\\Users\\car_j\\.juliapro\\JuliaPro_v1.0.5-2\\packages\\Plots\\qZHsp\\src\\series.jl:129 [inlined]",
      " [5] apply_recipe(::Dict{Symbol,Any}, ::Type{Plots.SliceIt}, ::Float64, ::Float64, ::Nothing) at C:\\Users\\car_j\\.juliapro\\JuliaPro_v1.0.5-2\\packages\\RecipesBase\\zBoFG\\src\\RecipesBase.jl:275",
      " [6] _process_userrecipes(::Plots.Plot{Plots.GRBackend}, ::Dict{Symbol,Any}, ::Tuple{Float64,Float64}) at C:\\Users\\car_j\\.juliapro\\JuliaPro_v1.0.5-2\\packages\\Plots\\qZHsp\\src\\pipeline.jl:83",
      " [7] _plot!(::Plots.Plot{Plots.GRBackend}, ::Dict{Symbol,Any}, ::Tuple{Float64,Float64}) at C:\\Users\\car_j\\.juliapro\\JuliaPro_v1.0.5-2\\packages\\Plots\\qZHsp\\src\\plot.jl:178",
      " [8] #plot!#143(::Base.Iterators.Pairs{Symbol,Any,NTuple{7,Symbol},NamedTuple{(:title, :xlabel, :ylabel, :xlim, :ylim, :legend, :seriestype),Tuple{String,String,String,Tuple{Int64,Int64},Tuple{Int64,Int64},Symbol,Symbol}}}, ::Function, ::Plots.Plot{Plots.GRBackend}, ::Float64, ::Vararg{Float64,N} where N) at C:\\Users\\car_j\\.juliapro\\JuliaPro_v1.0.5-2\\packages\\Plots\\qZHsp\\src\\plot.jl:158",
      " [9] (::getfield(RecipesBase, Symbol(\"#kw##plot!\")))(::NamedTuple{(:title, :xlabel, :ylabel, :xlim, :ylim, :legend, :seriestype),Tuple{String,String,String,Tuple{Int64,Int64},Tuple{Int64,Int64},Symbol,Symbol}}, ::typeof(plot!), ::Plots.Plot{Plots.GRBackend}, ::Float64, ::Vararg{Float64,N} where N) at .\\none:0",
      " [10] #plot!#142(::Base.Iterators.Pairs{Symbol,Any,NTuple{7,Symbol},NamedTuple{(:title, :xlabel, :ylabel, :xlim, :ylim, :legend, :seriestype),Tuple{String,String,String,Tuple{Int64,Int64},Tuple{Int64,Int64},Symbol,Symbol}}}, ::Function, ::Float64, ::Vararg{Float64,N} where N) at C:\\Users\\car_j\\.juliapro\\JuliaPro_v1.0.5-2\\packages\\Plots\\qZHsp\\src\\plot.jl:150",
      " [11] (::getfield(RecipesBase, Symbol(\"#kw##plot!\")))(::NamedTuple{(:title, :xlabel, :ylabel, :xlim, :ylim, :legend, :seriestype),Tuple{String,String,String,Tuple{Int64,Int64},Tuple{Int64,Int64},Symbol,Symbol}}, ::typeof(plot!), ::Float64, ::Float64) at .\\none:0",
      " [12] #scatter!#402(::Base.Iterators.Pairs{Symbol,Any,NTuple{6,Symbol},NamedTuple{(:title, :xlabel, :ylabel, :xlim, :ylim, :legend),Tuple{String,String,String,Tuple{Int64,Int64},Tuple{Int64,Int64},Symbol}}}, ::Function, ::Float64, ::Vararg{Float64,N} where N) at C:\\Users\\car_j\\.juliapro\\JuliaPro_v1.0.5-2\\packages\\RecipesBase\\zBoFG\\src\\RecipesBase.jl:370",
      " [13] (::getfield(Plots, Symbol(\"#kw##scatter!\")))(::NamedTuple{(:title, :xlabel, :ylabel, :xlim, :ylim, :legend),Tuple{String,String,String,Tuple{Int64,Int64},Tuple{Int64,Int64},Symbol}}, ::typeof(scatter!), ::Float64, ::Vararg{Float64,N} where N) at .\\none:0",
      " [14] top-level scope at .\\In[29]:5"
     ]
    }
   ],
   "source": [
    "#Cómo visualizamos esto ?\n",
    "for k in 1:3\n",
    "    xs = coords[k][1]\n",
    "    ys = coords[k][2]\n",
    "    scatter!(xs,ys, title=\"N partículas inicialemente\",xlabel=\"Eje x\", ylabel=\"Eje y\",\n",
    "        xlim=(0,30),ylim=(0,30),legend=:none)\n",
    "end\n",
    "#scatter(coords[1])\n",
    "#scatter!(coords[2])\n",
    "#scatter!(coords[3])"
   ]
  },
  {
   "cell_type": "markdown",
   "metadata": {},
   "source": [
    "#### Aquí falta ver gráficas"
   ]
  },
  {
   "cell_type": "markdown",
   "metadata": {},
   "source": [
    "Una vez establecido el sistema y teniendo en consideración cuales van a ser las condiciones de frontera, continumos en encontar las listas $R^{0}_{k}$, $V^{0}_{k}$ y $F^{0}_{k}$. Veamos la estructura de un elemento de $R_{k}$.\n",
    "\n",
    "Ya habiamos dicho que $R_{k} = (R_1, R_2, ... , R_k)$, y $R_{1}$ el cuál corresponde a nuestras posiciones iniciales tiene la siguiente forma:\n",
    "$$\\begin{align}\n",
    "R_{1} &= [R^{1}_{p1}, R^{1}_{p2}, ..., R^{1}_{pN}], \\\\\n",
    "&= [(p1_{x},p1_{y}), (p2_{x},p2_{y}), ... , (pN_{x}, pN_{y})].\n",
    "\\end{align}$$\n",
    "\n",
    "La pregunta es, como prealoco una lista con esta estructura? o es conveniente tener una lista para las posiciones en $x$ aparte de las de $y$?, tuplas o arreglos?.\n",
    "\n",
    "La misma estructura tendrá la lista de velocidades.\n",
    "\n",
    "Por otra parte, las fuerzas. De la teoría sabemos que la fuerza total en este sistema es:\n",
    "$$\\begin{equation}\n",
    "\\vec{F}_{k} = \\sum_{i \\neq j} \\vec{f}_{ij} + \\vec{f}_{ext}^{i}\n",
    "\\end{equation}$$\n",
    "\n",
    "donde el $f_{ij}$ corresponde a la interacción a pares de partículas y corresponde a $-\\nabla U$ donde $U$ es el potencial de Lennard-Jones. Y $f_{ext}^{i}$ la fuerza gravitacional. Entonces:\n",
    "$$\\begin{equation}\n",
    "\\vec{F}_{k} = \\sum_{i \\neq j}\\left[ \\frac{24\\sigma}{r^{2}_{ij}}\\left(2 \\left(\\frac{\\epsilon}{r_{ij}} \\right)^{12}  - \\left(  \\frac{\\epsilon}{r_{ij}}\\right)^{6} \\right) \\vec{r}_{ij} + mg \\right]\n",
    "\\end{equation}$$\n",
    "\n",
    "NOTA: Cuál es la fuerza de gravedad ? debería de ser vector para que tenga sentido."
   ]
  },
  {
   "cell_type": "code",
   "execution_count": 5,
   "metadata": {},
   "outputs": [
    {
     "data": {
      "text/plain": [
       "LennardForce (generic function with 1 method)"
      ]
     },
     "execution_count": 5,
     "metadata": {},
     "output_type": "execute_result"
    }
   ],
   "source": [
    "#Lista de posición inicial. El cuál será una lista de listas con dos entradas, PERO es la misma que \"coords\"\n",
    "#coords2 = [zeros(1,2) for i in 1:3]\n",
    "coords2 = coords\n",
    "#La lista con velocidades inciales, sí la definimos, pero inicialmente todas las partículas tienen velocidad cero.\n",
    "velocy2 = [zeros(1,2) for i in 1:3]\n",
    "#norm(coords2[1] - coords2[2])\n",
    "\n",
    "function LennardForce(Lista)\n",
    "    dim = length(Lista)\n",
    "    Fuerzas = [zeros(dim) for i in 1:dim]\n",
    "    for i in 1:dim\n",
    "        Sumfuerza = [0,0]\n",
    "        for k in 1:dim\n",
    "            if i != k\n",
    "                Difi = Lista[i] - Lista[k]\n",
    "                normi = norm(Difi)\n",
    "                F1 = 2.0*(1/normi)^(12)\n",
    "                F2 = (1/normi)^(6)\n",
    "                F3 = (24.0)/((normi)^2)\n",
    "                fuerzai = F3*(F1 - F2)*Difi\n",
    "                Sumfuerza = Sumfuerza + fuerzai\n",
    "            end\n",
    "        end\n",
    "        Fuerzas[i] = Sumfuerza\n",
    "    end\n",
    "return Fuerzas\n",
    "end"
   ]
  },
  {
   "cell_type": "code",
   "execution_count": 10,
   "metadata": {},
   "outputs": [
    {
     "data": {
      "text/plain": [
       "3-element Array{Array{Float64,1},1}:\n",
       " [-0.837398, 2.07844]     \n",
       " [9.10647e-8, -3.24953e-8]\n",
       " [0.837398, -2.07844]     "
      ]
     },
     "execution_count": 10,
     "metadata": {},
     "output_type": "execute_result"
    }
   ],
   "source": [
    "Lista1Fuerza = LennardForce(coords)"
   ]
  },
  {
   "cell_type": "code",
   "execution_count": 7,
   "metadata": {},
   "outputs": [
    {
     "data": {
      "text/plain": [
       "DifCent (generic function with 1 method)"
      ]
     },
     "execution_count": 7,
     "metadata": {},
     "output_type": "execute_result"
    }
   ],
   "source": [
    "#Función auxiliar, derivada central:\n",
    "function DifCent(f,x,h)\n",
    "    c = f(x+h) - f(x-h)\n",
    "    der = c/(2*h)\n",
    "    return der\n",
    "end"
   ]
  },
  {
   "cell_type": "code",
   "execution_count": 19,
   "metadata": {},
   "outputs": [
    {
     "data": {
      "text/plain": [
       "SpeedVerlet (generic function with 1 method)"
      ]
     },
     "execution_count": 19,
     "metadata": {},
     "output_type": "execute_result"
    }
   ],
   "source": [
    "#Función velocidad Verlet\n",
    "function SpeedVerlet(R_0,V_0,F_0,h,m,t0,tf)\n",
    "#Definiciones previas:\n",
    "    arrt = t0:h:tf\n",
    "    N = length(arrt)\n",
    "    M = length(R_0)\n",
    "#Prealocamos listas:\n",
    "    Force = [zeros(M) for i in 1:M]\n",
    "    Posit = [zeros(1,2) for i in 1:M]\n",
    "    Velcy = [zeros(1,2) for i in 1:M]    \n",
    "#Asignamos los elementos iniciales a las listas:\n",
    "    Force[1] = F_0\n",
    "    #Velcy[1] = V_0\n",
    "    #Posit[1] = R_0\n",
    "\n",
    "############ Método de velocity Verlet\n",
    "    return(Force)\n",
    "end"
   ]
  },
  {
   "cell_type": "code",
   "execution_count": 20,
   "metadata": {},
   "outputs": [
    {
     "ename": "MethodError",
     "evalue": "MethodError: Cannot `convert` an object of type Array{Float64,1} to an object of type Float64\nClosest candidates are:\n  convert(::Type{T<:Number}, !Matched::T<:Number) where T<:Number at number.jl:6\n  convert(::Type{T<:Number}, !Matched::Number) where T<:Number at number.jl:7\n  convert(::Type{T<:Number}, !Matched::Base.TwicePrecision) where T<:Number at twiceprecision.jl:250\n  ...",
     "output_type": "error",
     "traceback": [
      "MethodError: Cannot `convert` an object of type Array{Float64,1} to an object of type Float64\nClosest candidates are:\n  convert(::Type{T<:Number}, !Matched::T<:Number) where T<:Number at number.jl:6\n  convert(::Type{T<:Number}, !Matched::Number) where T<:Number at number.jl:7\n  convert(::Type{T<:Number}, !Matched::Base.TwicePrecision) where T<:Number at twiceprecision.jl:250\n  ...",
      "",
      "Stacktrace:",
      " [1] setindex!(::Array{Float64,1}, ::Array{Float64,1}, ::Int64) at .\\array.jl:769",
      " [2] copyto! at .\\abstractarray.jl:731 [inlined]",
      " [3] copyto! at .\\abstractarray.jl:723 [inlined]",
      " [4] Type at .\\array.jl:497 [inlined]",
      " [5] convert at .\\array.jl:489 [inlined]",
      " [6] setindex! at .\\array.jl:769 [inlined]",
      " [7] SpeedVerlet(::Array{Array{Float64,1},1}, ::Array{Array{Float64,2},1}, ::Array{Array{Float64,1},1}, ::Int64, ::Int64, ::Int64, ::Int64) at .\\In[19]:12",
      " [8] top-level scope at In[20]:1"
     ]
    }
   ],
   "source": [
    "SpeedVerlet(coords2,velocy2,Lista1Fuerza,1,1,1,4)"
   ]
  },
  {
   "cell_type": "code",
   "execution_count": null,
   "metadata": {},
   "outputs": [],
   "source": []
  }
 ],
 "metadata": {
  "kernelspec": {
   "display_name": "Julia 1.0.5",
   "language": "julia",
   "name": "julia-1.0"
  },
  "language_info": {
   "file_extension": ".jl",
   "mimetype": "application/julia",
   "name": "julia",
   "version": "1.0.5"
  }
 },
 "nbformat": 4,
 "nbformat_minor": 4
}
