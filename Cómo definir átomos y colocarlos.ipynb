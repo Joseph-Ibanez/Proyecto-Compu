{
 "cells": [
  {
   "cell_type": "code",
   "execution_count": 11,
   "metadata": {},
   "outputs": [],
   "source": [
    "struct Atom{T}\n",
    "    attype::String\n",
    "    name::String\n",
    "    resnum::Int\n",
    "    resname::String\n",
    "    charge::T\n",
    "    mass::T\n",
    "    σ::T\n",
    "    ϵ::T\n",
    "end"
   ]
  },
  {
   "cell_type": "code",
   "execution_count": 12,
   "metadata": {},
   "outputs": [],
   "source": [
    "using StaticArrays"
   ]
  },
  {
   "cell_type": "code",
   "execution_count": 13,
   "metadata": {},
   "outputs": [],
   "source": [
    "function Atom(;\n",
    "                attype=\"\",\n",
    "                name=\"\",\n",
    "                resnum=0,\n",
    "                resname=\"\",\n",
    "                charge=0.0,\n",
    "                mass=0.0,\n",
    "                σ=0.0,\n",
    "                ϵ=0.0)\n",
    "    return Atom{typeof(mass)}(attype, name, resnum, resname, charge, mass, σ, ϵ)\n",
    "end\n",
    "\n",
    "function Base.show(io::IO, a::Atom)\n",
    "    print(io, \"Atom{\", typeof(a.charge), \"} with name \\\"\", a.name,\n",
    "                \"\\\", type \\\"\", a.attype, \"\\\", charge=\", a.charge, \", mass=\",\n",
    "                a.mass, \", σ=\", a.σ, \", ϵ=\", a.ϵ)\n",
    "end"
   ]
  },
  {
   "cell_type": "code",
   "execution_count": 14,
   "metadata": {},
   "outputs": [
    {
     "data": {
      "text/plain": [
       "100-element Array{SArray{Tuple{2},Float64,1,2},1}:\n",
       " [15.06687007923083, 1.4626398121807482]\n",
       " [28.76104965928692, 24.4167912224356]\n",
       " [3.745763433911642, 26.27141173736835]\n",
       " [0.7429928840410827, 19.373115307762404]\n",
       " [2.772361758578854, 14.606363968375828]\n",
       " [15.755168936626445, 14.715505381725446]\n",
       " [4.873193840248781, 23.366511844117195]\n",
       " [9.236615408730364, 3.0018927616276403]\n",
       " [3.059680944756611, 12.484551711698483]\n",
       " [8.691490660291352, 19.572183003870148]\n",
       " [19.572293988577538, 26.86884859306393]\n",
       " [13.818204009202095, 27.044904107765426]\n",
       " [23.690514247877005, 1.4707793170880001]\n",
       " ⋮\n",
       " [1.8452158042693179, 16.29179364601346]\n",
       " [25.722099925849893, 9.256680069428544]\n",
       " [12.00295025778427, 20.87850813304203]\n",
       " [28.74407180308397, 28.79491796490693]\n",
       " [9.353213673756777, 3.395417370680076]\n",
       " [5.5493934162512515, 27.617060737522994]\n",
       " [27.503274398913593, 14.639214888911932]\n",
       " [26.929719712891597, 9.338486754018788]\n",
       " [19.577830938180405, 14.133063385137747]\n",
       " [22.399177032886328, 9.821582389050242]\n",
       " [18.146136953956642, 5.152795863650841]\n",
       " [24.24872841207517, 10.482621786934851]"
      ]
     },
     "execution_count": 14,
     "metadata": {},
     "output_type": "execute_result"
    }
   ],
   "source": [
    "n_atoms2 = 100\n",
    "mass2 = 1.0\n",
    "atoms2 = [Atom(mass=mass2, σ=1.0, ϵ=1.0) for i in 1:50]\n",
    "atoms3 = [Atom(name=\"$i\" ,mass=mass2, σ=2.0, ϵ=3.0) for i in 50:n_atoms2]\n",
    "box_size2 = 30.0 # nm\n",
    "coords2 = [box_size2 .* rand(SVector{2}) for i in 1:n_atoms2]"
   ]
  },
  {
   "cell_type": "code",
   "execution_count": 15,
   "metadata": {},
   "outputs": [
    {
     "data": {
      "text/plain": [
       "2-element Array{Array{Float64,1},1}:\n",
       " [25.52791994917397, 9.927041424752169]\n",
       " [17.5588620822477, 23.79464741855533]"
      ]
     },
     "execution_count": 15,
     "metadata": {},
     "output_type": "execute_result"
    }
   ],
   "source": [
    "coords3 = [box_size2 .* [rand(),rand()] for i in 1:2]"
   ]
  },
  {
   "cell_type": "code",
   "execution_count": 5,
   "metadata": {},
   "outputs": [
    {
     "data": {
      "text/plain": [
       "Átomo (generic function with 1 method)"
      ]
     },
     "execution_count": 5,
     "metadata": {},
     "output_type": "execute_result"
    }
   ],
   "source": [
    "function Átomo(m,c,vx,vy,n)\n",
    "    ListaM = zeros(n,1)\n",
    "    ListaC = zeros(n,1)\n",
    "    ListaVx = zeros(n,1)\n",
    "    ListaVy = zeros(n,1)\n",
    "    for i in 1:n\n",
    "        ListaM[i]=m\n",
    "        ListaC[i]=c\n",
    "        ListaVx[i]=vx\n",
    "        ListaVy[i]=vy\n",
    "    end \n",
    "    return ListaM, ListaVx, ListaVy\n",
    "end"
   ]
  },
  {
   "cell_type": "code",
   "execution_count": 6,
   "metadata": {},
   "outputs": [
    {
     "data": {
      "text/plain": [
       "([1.0; 1.0], [0.0; 0.0], [1.0; 1.0])"
      ]
     },
     "execution_count": 6,
     "metadata": {},
     "output_type": "execute_result"
    }
   ],
   "source": [
    "Átomo(1,0,0,1,2)"
   ]
  },
  {
   "cell_type": "code",
   "execution_count": 84,
   "metadata": {},
   "outputs": [
    {
     "data": {
      "text/plain": [
       "4-element Array{Array{Array{Float64,1},2},1}:\n",
       " [[0.0, 0.0] [0.0, 0.0] … [0.0, 0.0] [0.0, 0.0]; [0.0, 0.0] [0.0, 0.0] … [0.0, 0.0] [0.0, 0.0]; … ; [0.0, 0.0] [0.0, 0.0] … [0.0, 0.0] [0.0, 0.0]; [0.0, 0.0] [0.0, 0.0] … [0.0, 0.0] [0.0, 0.0]]\n",
       " [[0.0, 0.0] [0.0, 0.0] … [0.0, 0.0] [0.0, 0.0]; [0.0, 0.0] [0.0, 0.0] … [0.0, 0.0] [0.0, 0.0]; … ; [0.0, 0.0] [0.0, 0.0] … [0.0, 0.0] [0.0, 0.0]; [0.0, 0.0] [0.0, 0.0] … [0.0, 0.0] [0.0, 0.0]]\n",
       " [[0.0, 0.0] [0.0, 0.0] … [0.0, 0.0] [0.0, 0.0]; [0.0, 0.0] [0.0, 0.0] … [0.0, 0.0] [0.0, 0.0]; … ; [0.0, 0.0] [0.0, 0.0] … [0.0, 0.0] [0.0, 0.0]; [0.0, 0.0] [0.0, 0.0] … [0.0, 0.0] [0.0, 0.0]]\n",
       " [[0.0, 0.0] [0.0, 0.0] … [0.0, 0.0] [0.0, 0.0]; [0.0, 0.0] [0.0, 0.0] … [0.0, 0.0] [0.0, 0.0]; … ; [0.0, 0.0] [0.0, 0.0] … [0.0, 0.0] [0.0, 0.0]; [0.0, 0.0] [0.0, 0.0] … [0.0, 0.0] [0.0, 0.0]]"
      ]
     },
     "execution_count": 84,
     "metadata": {},
     "output_type": "execute_result"
    }
   ],
   "source": [
    "\n",
    "n=2\n",
    "m=4\n",
    "Arro = [Neo for i in 1:m]\n",
    "#for i in 1:m \n",
    "    #MatrizPrueba=Arro[i]\n",
    "    #for j in 1:n\n",
    "        #for k in 1:n\n",
    "            #MatrizPrueba[j,k]=10\n",
    "        #end\n",
    "    #end\n",
    "#end\n",
    "#println(Arro)"
   ]
  },
  {
   "cell_type": "code",
   "execution_count": 72,
   "metadata": {},
   "outputs": [
    {
     "data": {
      "text/plain": [
       "2×2 Array{Float64,2}:\n",
       " 1.0  1.0\n",
       " 1.0  1.0"
      ]
     },
     "metadata": {},
     "output_type": "display_data"
    }
   ],
   "source": [
    "m1 = zeros(n,n)\n",
    "for i in 1:n\n",
    "    for j in 1:n\n",
    "        m1[i,j] = 1\n",
    "    end\n",
    "end\n",
    "display(m1)"
   ]
  },
  {
   "cell_type": "code",
   "execution_count": 83,
   "metadata": {
    "scrolled": true
   },
   "outputs": [
    {
     "data": {
      "text/plain": [
       "10×10 Array{Array{Float64,1},2}:\n",
       " [0.0, 0.0]  [0.0, 0.0]  [0.0, 0.0]  …  [0.0, 0.0]  [0.0, 0.0]  [0.0, 0.0]\n",
       " [0.0, 0.0]  [0.0, 0.0]  [0.0, 0.0]     [0.0, 0.0]  [0.0, 0.0]  [0.0, 0.0]\n",
       " [0.0, 0.0]  [0.0, 0.0]  [0.0, 0.0]     [0.0, 0.0]  [0.0, 0.0]  [0.0, 0.0]\n",
       " [0.0, 0.0]  [0.0, 0.0]  [0.0, 0.0]     [0.0, 0.0]  [0.0, 0.0]  [0.0, 0.0]\n",
       " [0.0, 0.0]  [0.0, 0.0]  [0.0, 0.0]     [0.0, 0.0]  [0.0, 0.0]  [0.0, 0.0]\n",
       " [0.0, 0.0]  [0.0, 0.0]  [0.0, 0.0]  …  [0.0, 0.0]  [0.0, 0.0]  [0.0, 0.0]\n",
       " [0.0, 0.0]  [0.0, 0.0]  [0.0, 0.0]     [0.0, 0.0]  [0.0, 0.0]  [0.0, 0.0]\n",
       " [0.0, 0.0]  [0.0, 0.0]  [0.0, 0.0]     [0.0, 0.0]  [0.0, 0.0]  [0.0, 0.0]\n",
       " [0.0, 0.0]  [0.0, 0.0]  [0.0, 0.0]     [0.0, 0.0]  [0.0, 0.0]  [0.0, 0.0]\n",
       " [0.0, 0.0]  [0.0, 0.0]  [0.0, 0.0]     [0.0, 0.0]  [0.0, 0.0]  [0.0, 0.0]"
      ]
     },
     "metadata": {},
     "output_type": "display_data"
    }
   ],
   "source": [
    "arx = zeros(10)\n",
    "ary = zeros(10)\n",
    "Neo = [[x,y] for x in arx, y in ary]\n",
    "display(Neo)"
   ]
  },
  {
   "cell_type": "code",
   "execution_count": 7,
   "metadata": {},
   "outputs": [],
   "source": [
    "using LinearAlgebra"
   ]
  },
  {
   "cell_type": "code",
   "execution_count": 78,
   "metadata": {},
   "outputs": [
    {
     "data": {
      "text/plain": [
       "Átomo (generic function with 1 method)"
      ]
     },
     "execution_count": 78,
     "metadata": {},
     "output_type": "execute_result"
    }
   ],
   "source": [
    "function Átomo(m,c,vx,vy,n)\n",
    "    ListaM = zeros(n,1)\n",
    "    ListaC = zeros(n,1)\n",
    "    ListaVx = zeros(n,1)\n",
    "    ListaVy = zeros(n,1)\n",
    "    for i in 1:n\n",
    "        ListaM[i]=m\n",
    "        ListaC[i]=c\n",
    "        ListaVx[i]=vx\n",
    "        ListaVy[i]=vy\n",
    "    end \n",
    "    return ListaM, ListaVx, ListaVy\n",
    "end"
   ]
  },
  {
   "cell_type": "code",
   "execution_count": 82,
   "metadata": {},
   "outputs": [
    {
     "data": {
      "text/plain": [
       "([1.0; 1.0], [0.0; 0.0], [1.0; 1.0])"
      ]
     },
     "execution_count": 82,
     "metadata": {},
     "output_type": "execute_result"
    }
   ],
   "source": [
    "Atomito = Átomo(1,0,0,1,2)"
   ]
  },
  {
   "cell_type": "code",
   "execution_count": 84,
   "metadata": {},
   "outputs": [
    {
     "data": {
      "text/plain": [
       "1.0"
      ]
     },
     "execution_count": 84,
     "metadata": {},
     "output_type": "execute_result"
    }
   ],
   "source": [
    "Atomito[1][2]"
   ]
  },
  {
   "cell_type": "code",
   "execution_count": 16,
   "metadata": {},
   "outputs": [
    {
     "data": {
      "text/plain": [
       "2-element Array{Array{Float64,1},1}:\n",
       " [0.5327977878890389, 2.774680486405572]\n",
       " [9.102302232231045, 13.057506628024614]"
      ]
     },
     "execution_count": 16,
     "metadata": {},
     "output_type": "execute_result"
    }
   ],
   "source": [
    "coords3 = [box_size2 .* [rand(),rand()] for i in 1:2]"
   ]
  },
  {
   "cell_type": "code",
   "execution_count": 32,
   "metadata": {},
   "outputs": [
    {
     "data": {
      "text/plain": [
       "2-element Array{Float64,1}:\n",
       "  8.569504444342005\n",
       " 10.282826141619042"
      ]
     },
     "execution_count": 32,
     "metadata": {},
     "output_type": "execute_result"
    }
   ],
   "source": [
    "coords3[1][2,1]\n",
    "coords3[2]-coords3[1]"
   ]
  },
  {
   "cell_type": "code",
   "execution_count": 63,
   "metadata": {},
   "outputs": [
    {
     "data": {
      "text/plain": [
       "LaGravedadNoEsUnaFuerza (generic function with 1 method)"
      ]
     },
     "execution_count": 63,
     "metadata": {},
     "output_type": "execute_result"
    }
   ],
   "source": [
    "function distancia()\n",
    "    x_1 = coords3[1][1]\n",
    "    x_2 = coords3[2][1]\n",
    "    y_1 = coords3[1][2]\n",
    "    y_2 = coords3[2][2]\n",
    "    return sqrt((x_1-x_2)^2+(y_1-y_2)^2)\n",
    "end\n",
    "dist = distancia()\n",
    "\n",
    "function LennardForce(ϵ, σ)\n",
    "    return ((24.0*σ)/dist)*(2.0*(ϵ/dist)^(12)-(ϵ/dist)^(6))*((coords3[2]-coords3[1]))\n",
    "end\n",
    "\n",
    "function LaGravedadNoEsUnaFuerza()\n",
    "    Judas = -(1)*(9.81)*coords3[1][2]\n",
    "    return [coords3[1][1],Judas]\n",
    "end"
   ]
  },
  {
   "cell_type": "code",
   "execution_count": 58,
   "metadata": {},
   "outputs": [
    {
     "data": {
      "text/plain": [
       "Float64"
      ]
     },
     "execution_count": 58,
     "metadata": {},
     "output_type": "execute_result"
    }
   ],
   "source": [
    "typeof(distancia())"
   ]
  },
  {
   "cell_type": "code",
   "execution_count": 70,
   "metadata": {},
   "outputs": [
    {
     "data": {
      "text/plain": [
       "2-element Array{Float64,1}:\n",
       " -2.6712436319860725e-6\n",
       " -3.2053118156389333e-6"
      ]
     },
     "execution_count": 70,
     "metadata": {},
     "output_type": "execute_result"
    }
   ],
   "source": [
    "PruebaLennard = LennardForce(1.0,1.0)"
   ]
  },
  {
   "cell_type": "code",
   "execution_count": 72,
   "metadata": {},
   "outputs": [
    {
     "data": {
      "text/plain": [
       "2-element Array{Float64,1}:\n",
       "   0.5327977878890389\n",
       " -27.219615571638663"
      ]
     },
     "execution_count": 72,
     "metadata": {},
     "output_type": "execute_result"
    }
   ],
   "source": [
    "NewtonTerra = LaGravedadNoEsUnaFuerza()"
   ]
  },
  {
   "cell_type": "code",
   "execution_count": 76,
   "metadata": {},
   "outputs": [
    {
     "data": {
      "text/plain": [
       "2-element Array{Float64,1}:\n",
       "   0.5327951166454069\n",
       " -27.21961877695048"
      ]
     },
     "metadata": {},
     "output_type": "display_data"
    }
   ],
   "source": [
    "FuerzaTotal = PruebaLennard+NewtonTerra\n",
    "display(FuerzaTotal)"
   ]
  },
  {
   "cell_type": "code",
   "execution_count": 86,
   "metadata": {},
   "outputs": [
    {
     "data": {
      "text/plain": [
       "VerletBásica (generic function with 1 method)"
      ]
     },
     "execution_count": 86,
     "metadata": {},
     "output_type": "execute_result"
    }
   ],
   "source": [
    "function VerletBásica()\n",
    "    return R_k_1 = coords3[1] + [Atomito[2][1], Atomito[3][1]]*(0.001) + (1/2)*FuerzaTotal*(0.001)^2\n",
    "end"
   ]
  },
  {
   "cell_type": "code",
   "execution_count": 88,
   "metadata": {},
   "outputs": [
    {
     "data": {
      "text/plain": [
       "2-element Array{Float64,1}:\n",
       " 0.5327980542865972\n",
       " 2.7756668765961834"
      ]
     },
     "execution_count": 88,
     "metadata": {},
     "output_type": "execute_result"
    }
   ],
   "source": [
    "R_k_co = VerletBásica()"
   ]
  },
  {
   "cell_type": "code",
   "execution_count": null,
   "metadata": {},
   "outputs": [],
   "source": [
    "function distancia2()\n",
    "    x_1 = coords3[1][1]\n",
    "    x_2 = coords3[2][1]\n",
    "    y_1 = coords3[1][2]\n",
    "    y_2 = coords3[2][2]\n",
    "    return sqrt((x_1-x_2)^2+(y_1-y_2)^2)\n",
    "end\n",
    "dist = distancia()\n",
    "\n",
    "function LennardForce(ϵ, σ)\n",
    "    return ((24.0*σ)/dist)*(2.0*(ϵ/dist)^(12)-(ϵ/dist)^(6))*((coords3[2]-coords3[1]))\n",
    "end\n",
    "\n",
    "function LaGravedadNoEsUnaFuerza()\n",
    "    Judas = -(1)*(9.81)*coords3[1][2]\n",
    "    return [coords3[1][1],Judas]\n",
    "end"
   ]
  }
 ],
 "metadata": {
  "kernelspec": {
   "display_name": "Julia 1.5.3",
   "language": "julia",
   "name": "julia-1.5"
  },
  "language_info": {
   "file_extension": ".jl",
   "mimetype": "application/julia",
   "name": "julia",
   "version": "1.5.3"
  }
 },
 "nbformat": 4,
 "nbformat_minor": 4
}
