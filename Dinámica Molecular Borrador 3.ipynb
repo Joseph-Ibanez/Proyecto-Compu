{
 "cells": [
  {
   "cell_type": "code",
   "execution_count": 214,
   "metadata": {},
   "outputs": [],
   "source": [
    "using Plots\n",
    "using LinearAlgebra"
   ]
  },
  {
   "cell_type": "code",
   "execution_count": 215,
   "metadata": {},
   "outputs": [
    {
     "data": {
      "text/plain": [
       "Átomo (generic function with 1 method)"
      ]
     },
     "execution_count": 215,
     "metadata": {},
     "output_type": "execute_result"
    }
   ],
   "source": [
    "# velocidad en x, velocidad en y, tamaño de la caja, numéro de partículas.\n",
    "function Átomo(vx,vy,box,N)\n",
    "    ListaM = zeros(N,1)\n",
    "    ListaVx = zeros(N,1)\n",
    "    ListaVy = zeros(N,1)\n",
    "    ListaPosx = zeros(N,1)\n",
    "    ListaPosy = zeros(N,1)\n",
    "    for i in 1:N\n",
    "        ListaVx[i]= vx\n",
    "        ListaVy[i]= vy\n",
    "        ListaPosx[i] = box*rand()\n",
    "        ListaPosy[i] = box*rand()\n",
    "    end \n",
    "    return ListaVx, ListaVy, ListaPosx, ListaPosy\n",
    "end"
   ]
  },
  {
   "cell_type": "code",
   "execution_count": 216,
   "metadata": {},
   "outputs": [
    {
     "data": {
      "text/plain": [
       "([0.0; 0.0; … ; 0.0; 0.0], [0.0; 0.0; … ; 0.0; 0.0], [28.9673; 1.48824; … ; 14.0261; 3.33677], [17.2557; 8.23468; … ; 29.692; 12.734])"
      ]
     },
     "execution_count": 216,
     "metadata": {},
     "output_type": "execute_result"
    }
   ],
   "source": [
    "#Esta función da 4 listas, que corresponden a las velocidades y posiciones (en X y Y) iniciales!\n",
    "LVx, LVy, LPosx, LPosy  = Átomo(0,0,30,5)"
   ]
  },
  {
   "cell_type": "code",
   "execution_count": 217,
   "metadata": {},
   "outputs": [
    {
     "data": {
      "text/plain": [
       "ForceTotal (generic function with 1 method)"
      ]
     },
     "execution_count": 217,
     "metadata": {},
     "output_type": "execute_result"
    }
   ],
   "source": [
    "#Toma como argumentos LISTAS\n",
    "function ForceTotal(Posx,Posy)\n",
    "    dim = length(Posx)\n",
    "    g = 9.81\n",
    "    ϵ = 1\n",
    "    σ = 1\n",
    "    m = 0.018\n",
    "#=Para una partícla vamos a calcular todas las fuerzas que actuan sobre ellas. Prealocamos dos listas que guarden la fuerza total \n",
    "en X y Y para cada partícula.=#\n",
    "    Fuerzax = zeros(dim)\n",
    "    Fuerzay = zeros(dim)\n",
    "    for i in 1:dim\n",
    "#Va tomando la componente y de cada partícula.\n",
    "        Compy = Posy[i]\n",
    "#Para ir sumando la fuerza de cada partícula \"k\" sobre una fija \"i\"\n",
    "        Sumfuerzax = 0\n",
    "        Sumfuerzay = 0\n",
    "        for k in 1:dim\n",
    "            if i != k\n",
    "                Difx = Posx[i] - Posx[k]\n",
    "                Dify = Posy[i] - Posy[k]\n",
    "#Esta es la norma de la particula \"i\" con la \"k\"... solo para una.\n",
    "                Normi = norm([Difx, Dify]) \n",
    "#Obtenemos la fuerza de Lennard\n",
    "                F1 = 2.0*(ϵ/Normi)^(12)\n",
    "                F2 = (ϵ/Normi)^(6)\n",
    "                F3 = (24.0*σ)/((Normi)^2)\n",
    "#Dos componentes de la fuerza para el \n",
    "                fuerzaix = F3*(F1 - F2)*Difx\n",
    "                fuerzaiy = F3*(F1 - F2)*Dify\n",
    "#Como queremos obtener la suma de las fuerzas totales sobre la partícula \"i\", entonces:\n",
    "                Sumfuerzax = Sumfuerzax + fuerzaix\n",
    "                Sumfuerzay = Sumfuerzay + fuerzaiy\n",
    "            end\n",
    "        end\n",
    "#No se olvide que hay un factor adicional en la componente de la fuerza en y.\n",
    "        Fuerzax[i] = Sumfuerzax\n",
    "        Fuerzay[i] = Sumfuerzay - m*g*Compy\n",
    "    end\n",
    "return Fuerzax, Fuerzay\n",
    "end"
   ]
  },
  {
   "cell_type": "code",
   "execution_count": 218,
   "metadata": {},
   "outputs": [
    {
     "data": {
      "text/plain": [
       "([-1.79668e-7, 0.000141544, 1.1582e-7, 6.90087e-9, -0.000141487], [-3.04701, -1.45373, -1.05627, -5.24301, -2.24892])"
      ]
     },
     "execution_count": 218,
     "metadata": {},
     "output_type": "execute_result"
    }
   ],
   "source": [
    "#Aquí defino mis primeras listas de fuerzas en X y Y.\n",
    "Fxinic, Fyinic, = ForceTotal(LPosx, LPosy)"
   ]
  },
  {
   "cell_type": "code",
   "execution_count": 219,
   "metadata": {},
   "outputs": [
    {
     "data": {
      "text/plain": [
       "SpeedVerlet (generic function with 1 method)"
      ]
     },
     "execution_count": 219,
     "metadata": {},
     "output_type": "execute_result"
    }
   ],
   "source": [
    "#Función velocidad Verlet, debido a que ya separamos las coordenadas en posición, velocidad y fuerza, nuestra función verlet toma más argumentos.\n",
    "function SpeedVerlet(Rx_0,Ry_0,Vx_0,Vy_0,Fx_0,Fy_0,h,t0,tf)\n",
    "#Definiciones previas:\n",
    "    arrt = t0:h:tf\n",
    "    M = length(arrt)\n",
    "    N = length(Rx_0) #corresponde al número de partículas\n",
    "    Fac = (h^(2))/2\n",
    "    L = 30 #Longitud de la caja\n",
    "#Prealocamos listas:\n",
    "    Forcex = zeros(M,N)\n",
    "    Forcey = zeros(M,N)\n",
    "    Positx = zeros(M,N)\n",
    "    Posity = zeros(M,N)\n",
    "    Velcyx = zeros(M,N)\n",
    "    Velcyy = zeros(M,N)\n",
    "#Asignamos los elementos iniciales a las matrices:\n",
    "    Forcex[1,:] = Fx_0\n",
    "    Forcey[1,:] = Fy_0\n",
    "    Velcyx[1,:] = Vx_0\n",
    "    Velcyy[1,:] = Vy_0\n",
    "    Positx[1,:] = Rx_0\n",
    "    Posity[1,:] = Ry_0\n",
    "############ Método de velocity Verlet\n",
    "   for i in 1:(M-1)\n",
    "        Positx[i+1,:] = Positx[i,:] + h*Velcyx[i,:] + Fac*Forcex[i,:]\n",
    "        Posity[i+1,:] = Posity[i,:] + h*Velcyy[i,:] + Fac*Forcey[i,:]\n",
    "#Recordemos: a mi función ForceTotal le doy dos listas y me regresa dos listas, Fuerzax y Fuerzay\n",
    "        F_nextx, F_nexty = ForceTotal(Positx[i+1,:],Posity[i+1,:])\n",
    "        Forcex[i+1,:] = F_nextx\n",
    "        Forcey[i+1,:] = F_nexty\n",
    "#Hasta aquí ya calculó la fuerza F_k+1, entonces ya puede encontrar velocidad:\n",
    "        Velcyx[i+1,:] = Velcyx[i,:] + (h*0.5)*(Forcex[i,:] + Forcex[i+1,:])\n",
    "        Velcyy[i+1,:] = Velcyy[i,:] + (h*0.5)*(Forcey[i,:] + Forcey[i+1,:])\n",
    "    end\n",
    "    #return Forcex, Forcey,Positx,Posity,Velcyx,Velcyy\n",
    "    return Posity\n",
    "end"
   ]
  },
  {
   "cell_type": "code",
   "execution_count": 220,
   "metadata": {},
   "outputs": [
    {
     "data": {
      "text/plain": [
       "17×5 Array{Float64,2}:\n",
       " 17.2557     8.23468     5.9818     29.692     12.734   \n",
       " 17.1605     8.18925     5.9488     29.5281    12.6637  \n",
       " 16.8759     8.05346     5.85013    29.0384    12.4537  \n",
       " 16.405      7.82882     5.68691    28.2282    12.1062  \n",
       " 15.7531     7.51781     5.46092    27.1065    11.625   \n",
       " 14.9274     7.12386     5.17467    25.6856    11.0155  \n",
       " 13.9369     6.65135     4.83131    23.9812    10.2844  \n",
       " 12.7925     6.1055      4.43462    22.0122     9.4397  \n",
       " 11.5071     5.49238     3.989      19.8003     8.49072 \n",
       " 10.0946     4.81883     3.49935    17.3698     7.44784 \n",
       "  8.57067    4.09245     2.97108    14.7476     6.32243 \n",
       "  6.95219    3.32158     2.41003    11.9627     5.12656 \n",
       "  5.25698    2.51542     1.82237     9.04573    3.87274 \n",
       "  3.50376    1.68419     1.21461     6.02894    2.57349 \n",
       "  1.71186    0.838854    0.593435    2.94562    1.24137 \n",
       " -0.098924  -0.0113925  -0.0342844  -0.170212  -0.108811\n",
       " -1.90862   -0.863205   -0.661626   -3.28417   -1.45609 "
      ]
     },
     "execution_count": 220,
     "metadata": {},
     "output_type": "execute_result"
    }
   ],
   "source": [
    "SpeedVerlet(LPosx,LPosy,LVx,LVy,Fxinic,Fyinic,0.25,0,4)"
   ]
  },
  {
   "cell_type": "code",
   "execution_count": 221,
   "metadata": {},
   "outputs": [
    {
     "data": {
      "text/plain": [
       "SpeedVerlet2 (generic function with 1 method)"
      ]
     },
     "execution_count": 221,
     "metadata": {},
     "output_type": "execute_result"
    }
   ],
   "source": [
    "#Función velocidad Verlet, debido a que ya separamos las coordenadas en posición, velocidad y fuerza, nuestra función verlet toma más argumentos.\n",
    "function SpeedVerlet2(Rx_0,Ry_0,Vx_0,Vy_0,Fx_0,Fy_0,h,t0,tf)\n",
    "#Definiciones previas:\n",
    "    arrt = t0:h:tf\n",
    "    M = length(arrt)\n",
    "    N = length(Rx_0) #corresponde al número de partículas\n",
    "    Fac = (h^(2))/2\n",
    "    L = 30 #Longitud de la caja\n",
    "    Bd = 0\n",
    "    Bu = L\n",
    "    Bl = 0\n",
    "    Br = L\n",
    "#Prealocamos listas:\n",
    "    Forcex = zeros(M,N)\n",
    "    Forcey = zeros(M,N)\n",
    "    Positx = zeros(M,N)\n",
    "    Posity = zeros(M,N)\n",
    "    Velcyx = zeros(M,N)\n",
    "    Velcyy = zeros(M,N)\n",
    "#Asignamos los elementos iniciales a las matrices:\n",
    "    Forcex[1,:] = Fx_0\n",
    "    Forcey[1,:] = Fy_0\n",
    "    Velcyx[1,:] = Vx_0\n",
    "    Velcyy[1,:] = Vy_0\n",
    "    Positx[1,:] = Rx_0\n",
    "    Posity[1,:] = Ry_0\n",
    "############ Método de velocity Verlet\n",
    "for i in 1:(M-1)\n",
    "        Positx[i+1,:] = Positx[i,:] + h*Velcyx[i,:] + Fac*Forcex[i,:]\n",
    "        Posity[i+1,:] = Posity[i,:] + h*Velcyy[i,:] + Fac*Forcey[i,:]\n",
    "#Vamos a revisar que las posiciones no hayan atravesado la caja\n",
    "    for k in 1:N\n",
    "        if (Positx[i+1,k] < Bl)\n",
    "            Positx[i+1,k] = Bl - (Positx[i+1,k] - Bl)\n",
    "            Velcyx[i+1,k] = (-1)*Velcyx[i+1,k]\n",
    "        end\n",
    "        if (Positx[i+1,k] > Br)\n",
    "            Positx[i+1,k] = Br - (Positx[i+1,k] - Br)\n",
    "            Velcyx[i+1,k] = (-1)*Velcyx[i+1,k]\n",
    "        end\n",
    "        if (Posity[i+1,k] < Bd)\n",
    "            Posity[i+1,k] = Bd - (Posity[i+1,k] - Bd)\n",
    "            Velcyy[i,k] =  (-1)*Velcyy[i,k]\n",
    "        end\n",
    "        if (Posity[i+1,k] > Bu)\n",
    "            Posity[i+1,k] = Bu - (Posity[i+1,k] - Bu)\n",
    "            Velcyy[i,k] = (-1)*Velcyy[i,k]\n",
    "        end\n",
    "    end\n",
    "#Recordemos: a mi función ForceTotal le doy dos listas y me regresa dos listas, Fuerzax y Fuerzay\n",
    "        F_nextx, F_nexty = ForceTotal(Positx[i+1,:],Posity[i+1,:])\n",
    "        Forcex[i+1,:] = F_nextx\n",
    "        Forcey[i+1,:] = F_nexty\n",
    "#Hasta aquí ya calculó la fuerza F_k+1, entonces ya puede encontrar velocidad:\n",
    "        Velcyx[i+1,:] = Velcyx[i,:] + (h*0.5)*(Forcex[i,:] + Forcex[i+1,:])\n",
    "        Velcyy[i+1,:] = Velcyy[i,:] + (h*0.5)*(Forcey[i,:] + Forcey[i+1,:])\n",
    "    end\n",
    "    #return Forcex, Forcey,Positx,Posity,Velcyx,Velcyy\n",
    "    return Velcyy\n",
    "end"
   ]
  },
  {
   "cell_type": "code",
   "execution_count": 222,
   "metadata": {},
   "outputs": [
    {
     "data": {
      "text/plain": [
       "17×5 Array{Float64,2}:\n",
       "  0.0        0.0        0.0         0.0       0.0    \n",
       " -0.759651  -0.36243   -0.263338   -1.30714  -0.56068\n",
       " -1.51092   -0.720853  -0.52377    -2.59985  -1.11518\n",
       " -2.24551   -1.07131   -0.778421   -3.86386  -1.65738\n",
       " -2.95532   -1.40992   -1.02448    -5.08524  -2.18132\n",
       " -3.63252   -1.73292   -1.25924    -6.25049  -2.68122\n",
       " -4.26962   -2.03674   -1.48009    -7.34676  -3.1516 \n",
       " -4.85961   -2.31794   -1.68461    -8.36195  -3.58733\n",
       " -5.39596   -2.57333   -1.87054    -9.28486  -3.9837 \n",
       " -5.87276   -2.79986   -2.03583   -10.1053   -4.33658\n",
       " -6.28475   -2.9945    -2.17865   -10.8142   -4.64257\n",
       " -6.62738   -3.15406   -2.29742   -11.4038   -4.89937\n",
       " -6.89687   -3.27476   -2.39084   -11.8675   -5.10614\n",
       " -7.09024   -3.35313   -2.45787   -12.2002   -5.26275\n",
       "  7.20536    3.39117    2.49778    12.3983    5.3646 \n",
       "  7.16539    3.3845     2.48393    12.3295    5.32271\n",
       "  7.1215     3.39168    2.46871    12.254     5.26219"
      ]
     },
     "execution_count": 222,
     "metadata": {},
     "output_type": "execute_result"
    }
   ],
   "source": [
    "SpeedVerlet2(LPosx,LPosy,LVx,LVy,Fxinic,Fyinic,0.25,0,4)"
   ]
  },
  {
   "cell_type": "code",
   "execution_count": null,
   "metadata": {},
   "outputs": [],
   "source": []
  }
 ],
 "metadata": {
  "kernelspec": {
   "display_name": "Julia 1.0.5",
   "language": "julia",
   "name": "julia-1.0"
  },
  "language_info": {
   "file_extension": ".jl",
   "mimetype": "application/julia",
   "name": "julia",
   "version": "1.0.5"
  }
 },
 "nbformat": 4,
 "nbformat_minor": 4
}
